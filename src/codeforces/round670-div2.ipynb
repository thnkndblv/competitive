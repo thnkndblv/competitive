{
 "metadata": {
  "language_info": {
   "codemirror_mode": {
    "name": "ipython",
    "version": 3
   },
   "file_extension": ".py",
   "mimetype": "text/x-python",
   "name": "python",
   "nbconvert_exporter": "python",
   "pygments_lexer": "ipython3",
   "version": "3.7.4-final"
  },
  "orig_nbformat": 2,
  "kernelspec": {
   "name": "python3",
   "display_name": "Python 3"
  }
 },
 "nbformat": 4,
 "nbformat_minor": 2,
 "cells": [
  {
   "cell_type": "code",
   "execution_count": 1,
   "metadata": {},
   "outputs": [],
   "source": [
    "from io import StringIO\n",
    "import sys\n",
    "\n",
    "sys.stdin = StringIO(\n",
    "'''5\n",
    "6\n",
    "0 2 1 5 0 1\n",
    "3\n",
    "0 1 2\n",
    "4\n",
    "0 2 0 1\n",
    "6\n",
    "1 2 3 4 5 6\n",
    "5\n",
    "0 0 0 1 1\n",
    "''')"
   ]
  },
  {
   "cell_type": "code",
   "execution_count": 2,
   "metadata": {
    "tags": []
   },
   "outputs": [
    {
     "output_type": "stream",
     "name": "stdout",
     "text": "5\n3\n4\n0\n4\n"
    }
   ],
   "source": [
    "from sys import stdin\n",
    "    \n",
    "class Input:\n",
    "    def __init__(self):\n",
    "        self.next = self.readline()\n",
    "    \n",
    "    def readline(self):\n",
    "        return stdin.readline().strip()\n",
    "\n",
    "    def line(self):\n",
    "        try:\n",
    "            return self.next\n",
    "        finally:\n",
    "            self.next = self.readline()\n",
    "\n",
    "    def array(self, sep = ' ', cast = int):\n",
    "        return list(map(cast, self.line().split(sep = sep)))\n",
    "\n",
    "    def known_tests(self):\n",
    "        num_of_cases, = self.array()\n",
    "    \n",
    "        for case in range(num_of_cases):\n",
    "            yield self\n",
    "\n",
    "    def unknown_tests(self):\n",
    "        while self.next:\n",
    "            yield self\n",
    "\n",
    "class Problem:\n",
    "    def __init__(self, input):\n",
    "        n, = input.array()\n",
    "        a = input.array()\n",
    "\n",
    "        a.sort()\n",
    "        \n",
    "        m1 = self.f(a)\n",
    "        m2 = self.f(a)\n",
    "\n",
    "        print(m1 + m2)\n",
    "    \n",
    "    def f(self, a):\n",
    "        r = 0\n",
    "\n",
    "        for i in range(len(a)):\n",
    "            if a[i] == None or a[i] < r:\n",
    "                continue\n",
    "            if a[i] > r:\n",
    "                break\n",
    "            if a[i] == r:\n",
    "                r += 1\n",
    "                a[i] = None\n",
    "\n",
    "        return r\n",
    "\n",
    "for tc in Input().known_tests():\n",
    "    Problem(tc)\n"
   ]
  },
  {
   "cell_type": "code",
   "execution_count": 3,
   "metadata": {},
   "outputs": [],
   "source": [
    "from io import StringIO\n",
    "import sys\n",
    "\n",
    "sys.stdin = StringIO(\n",
    "'''5\n",
    "5\n",
    "-1 -2 -3 -4 -5\n",
    "6\n",
    "-1 -2 -3 1 2 -1\n",
    "6\n",
    "-1 0 0 0 -1 -1\n",
    "6\n",
    "-9 -7 -5 -3 -2 1\n",
    "5\n",
    "0 0 0 0 0\n",
    "''')"
   ]
  },
  {
   "cell_type": "code",
   "execution_count": 4,
   "metadata": {
    "tags": []
   },
   "outputs": [
    {
     "output_type": "stream",
     "name": "stdout",
     "text": "-120\n12\n0\n945\n0\n"
    }
   ],
   "source": [
    "from sys import stdin\n",
    "    \n",
    "class Input:\n",
    "    def __init__(self):\n",
    "        self.next = self.readline()\n",
    "    \n",
    "    def readline(self):\n",
    "        return stdin.readline().strip()\n",
    "\n",
    "    def line(self):\n",
    "        try:\n",
    "            return self.next\n",
    "        finally:\n",
    "            self.next = self.readline()\n",
    "\n",
    "    def array(self, sep = ' ', cast = int):\n",
    "        return list(map(cast, self.line().split(sep = sep)))\n",
    "\n",
    "    def known_tests(self):\n",
    "        num_of_cases, = self.array()\n",
    "    \n",
    "        for case in range(num_of_cases):\n",
    "            yield self\n",
    "\n",
    "    def unknown_tests(self):\n",
    "        while self.next:\n",
    "            yield self\n",
    "\n",
    "class Problem:\n",
    "    def __init__(self, input):\n",
    "        n, = input.array()\n",
    "        a = input.array()\n",
    "        a.sort()\n",
    "\n",
    "        ans = max(\n",
    "            a[0] * a[1] * a[2] * a[3] * a[4],\n",
    "            a[0] * a[1] * a[2] * a[3] * a[-1],\n",
    "            a[0] * a[1] * a[2] * a[-2] * a[-1],\n",
    "            a[0] * a[1] * a[-3] * a[-2] * a[-1],\n",
    "            a[0] * a[-4] * a[-3] * a[-2] * a[-1],\n",
    "            a[-5] * a[-4] * a[-3] * a[-2] * a[-1]\n",
    "        )\n",
    "\n",
    "        print(ans)\n",
    "\n",
    "for tc in Input().known_tests():\n",
    "    Problem(tc)\n"
   ]
  }
 ]
}