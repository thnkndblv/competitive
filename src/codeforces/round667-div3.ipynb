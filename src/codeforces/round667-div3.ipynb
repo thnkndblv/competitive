{
 "metadata": {
  "language_info": {
   "codemirror_mode": {
    "name": "ipython",
    "version": 3
   },
   "file_extension": ".py",
   "mimetype": "text/x-python",
   "name": "python",
   "nbconvert_exporter": "python",
   "pygments_lexer": "ipython3",
   "version": "3.7.7-final"
  },
  "orig_nbformat": 2,
  "kernelspec": {
   "name": "python3",
   "display_name": "Python 3"
  }
 },
 "nbformat": 4,
 "nbformat_minor": 2,
 "cells": [
  {
   "cell_type": "code",
   "execution_count": 136,
   "metadata": {},
   "outputs": [],
   "source": [
    "from io import StringIO\n",
    "import sys\n",
    "\n",
    "sys.stdin = StringIO(\n",
    "'''4\n",
    "7 1\n",
    "1 5 2 3 1 5 4\n",
    "1 3 6 7 2 5 4\n",
    "1 1\n",
    "1000000000\n",
    "1000000000\n",
    "5 10\n",
    "10 7 5 15 8\n",
    "20 199 192 219 1904\n",
    "10 10\n",
    "15 19 8 17 20 10 9 2 10 19\n",
    "12 13 6 17 1 14 7 9 19 3\n",
    "''')"
   ]
  },
  {
   "cell_type": "code",
   "execution_count": 137,
   "metadata": {
    "tags": []
   },
   "outputs": [
    {
     "output_type": "stream",
     "name": "stdout",
     "text": "6\n1\n5\n10\n"
    }
   ],
   "source": [
    "from sys import stdin\n",
    "    \n",
    "class Input:\n",
    "    def readline(self):\n",
    "        return stdin.readline().strip()\n",
    "    \n",
    "    def read_int(self):\n",
    "        return int(self.readline())\n",
    "    \n",
    "    def read_list(self):\n",
    "        return self.readline().split()\n",
    "    \n",
    "    def test_cases(self):\n",
    "        cases = self.read_int()\n",
    "    \n",
    "        for case in range(cases):\n",
    "            yield self\n",
    "    \n",
    "class Problem:\n",
    "    def __init__(self, input):\n",
    "        n, k = list(map(int, input.read_list()))\n",
    "        xcoord = list(map(int, input.read_list()))\n",
    "        ycoord = list(map(int, input.read_list()))\n",
    "        count = { 0: 0 }\n",
    "        for x in xcoord:\n",
    "            count[x] = count.get(x, 0) + 1\n",
    "        a = []\n",
    "        for pair in count.items():\n",
    "            a.append(pair)\n",
    "        a.sort(key=lambda p: p[0])\n",
    "        \n",
    "        i = 1\n",
    "        j = 0\n",
    "        n = len(a)\n",
    "        s = [0 for i in range(n)]\n",
    "        dp = [0 for i in range(n)]\n",
    "        ans = 0\n",
    "        while i < n:\n",
    "            s[i] = s[i - 1] + a[i][1]\n",
    "            while j + 1 < i and a[j + 1][0] + k < a[i][0]:\n",
    "                j += 1\n",
    "                s[i] -= a[j][1]\n",
    "            dp[i] = max(dp[i - 1], s[i])\n",
    "            ans = max(ans, s[i] + dp[j])\n",
    "            i += 1\n",
    "\n",
    "        print(ans)\n",
    "    \n",
    "for case_input in Input().test_cases():\n",
    "    Problem(case_input)"
   ]
  },
  {
   "cell_type": "code",
   "execution_count": 138,
   "metadata": {},
   "outputs": [],
   "source": [
    "from io import StringIO\n",
    "import sys\n",
    "\n",
    "sys.stdin = StringIO(\n",
    "'''4 2\n",
    "bbaa\n",
    "ab\n",
    "''')"
   ]
  },
  {
   "cell_type": "code",
   "execution_count": 139,
   "metadata": {
    "tags": []
   },
   "outputs": [],
   "source": [
    "from sys import stdin\n",
    "    \n",
    "class Input:\n",
    "    def readline(self):\n",
    "        return stdin.readline().strip()\n",
    "    \n",
    "    def read_int(self):\n",
    "        return int(self.readline())\n",
    "    \n",
    "    def read_list(self):\n",
    "        return self.readline().split()\n",
    "    \n",
    "    def read_ints(self):\n",
    "        return list(map(int, self.read_list()))\n",
    "    \n",
    "    def test_cases(self):\n",
    "        cases = self.read_int()\n",
    "    \n",
    "        for case in range(cases):\n",
    "            yield self\n",
    "\n",
    "    def single_test(self):\n",
    "        yield self\n",
    "\n",
    "class Problem:\n",
    "    def __init__(self, input):\n",
    "        n, k = input.read_ints()\n",
    "    \n",
    "for test_input in Input().single_test():\n",
    "    Problem(test_input)"
   ]
  }
 ]
}